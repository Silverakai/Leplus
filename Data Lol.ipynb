{
 "cells": [
  {
   "cell_type": "code",
   "execution_count": 2,
   "metadata": {},
   "outputs": [
    {
     "name": "stdout",
     "output_type": "stream",
     "text": [
      "Requirement already satisfied: riotwatcher in c:\\anaconda3\\lib\\site-packages (3.2.0)\n",
      "Requirement already satisfied: requests in c:\\anaconda3\\lib\\site-packages (from riotwatcher) (2.21.0)\n",
      "Requirement already satisfied: idna<2.9,>=2.5 in c:\\anaconda3\\lib\\site-packages (from requests->riotwatcher) (2.8)\n",
      "Requirement already satisfied: chardet<3.1.0,>=3.0.2 in c:\\anaconda3\\lib\\site-packages (from requests->riotwatcher) (3.0.4)\n",
      "Requirement already satisfied: certifi>=2017.4.17 in c:\\anaconda3\\lib\\site-packages (from requests->riotwatcher) (2020.12.5)\n",
      "Requirement already satisfied: urllib3<1.25,>=1.21.1 in c:\\anaconda3\\lib\\site-packages (from requests->riotwatcher) (1.24.1)\n"
     ]
    }
   ],
   "source": [
    "!pip install riotwatcher"
   ]
  },
  {
   "cell_type": "code",
   "execution_count": 1,
   "metadata": {},
   "outputs": [],
   "source": [
    "import requests, json\n",
    "from riotwatcher import LolWatcher, ApiError\n",
    "import pandas as pd"
   ]
  },
  {
   "cell_type": "code",
   "execution_count": 9,
   "metadata": {},
   "outputs": [
    {
     "name": "stdout",
     "output_type": "stream",
     "text": [
      "{'id': 'C754ragTdklFiKmrlqop3vlAPX6U3fLXTDlyG22wythKil0-tiIEok51-g', 'accountId': '01rHa5QHc2aRaXMwgdCYs9p_RiS61OqB5JluMAiVluin--1Zx45uaF8S', 'puuid': 'v_sTUHg9OBfL0kflx44NGgEf0_Jqk1FTzLG9JBflrmDBR7t8LPKEqtcf8ynl1CmKkheDHdeedIK4jA', 'name': 'Silverakai', 'profileIconId': 5031, 'revisionDate': 1649191160000, 'summonerLevel': 103}\n"
     ]
    }
   ],
   "source": [
    "api_key=\"RGAPI-d51ac6d4-0b2b-49f2-9db5-84807339da35\"\n",
    "watcher = LolWatcher(api_key)\n",
    "name=\"Silverakai\"\n",
    "ma_region=\"euw1\"\n",
    "my_region=\"europe\"\n",
    "\n",
    "me = watcher.summoner.by_name(ma_region, name)\n",
    "print(me)"
   ]
  },
  {
   "cell_type": "code",
   "execution_count": 10,
   "metadata": {},
   "outputs": [
    {
     "name": "stdout",
     "output_type": "stream",
     "text": [
      "https://euw1.api.riotgames.com/lol/summoner/v4/summoners/by-name/Silverakai?api_key=RGAPI-d51ac6d4-0b2b-49f2-9db5-84807339da35\n"
     ]
    }
   ],
   "source": [
    "#création url valider recup données\n",
    "\n",
    "urlbase = \"https://euw1.api.riotgames.com/lol/summoner/v4/summoners/by-name/\" \n",
    "urlfinal = urlbase + name + \"?api_key=\" + api_key\n",
    "print (urlfinal)"
   ]
  },
  {
   "cell_type": "code",
   "execution_count": 11,
   "metadata": {},
   "outputs": [],
   "source": [
    "#get les paramètres utilisateurs essentiels id, puuid et accountid\n",
    "\n",
    "response = requests.get(urlfinal)\n",
    "response.json()\n",
    "idinvocateur = response.json()[\"id\"]\n",
    "acidinvocateur = response.json()[\"accountId\"]\n",
    "puuidinvocateur = response.json()[\"puuid\"]"
   ]
  },
  {
   "cell_type": "code",
   "execution_count": 11,
   "metadata": {},
   "outputs": [
    {
     "name": "stdout",
     "output_type": "stream",
     "text": [
      "leagueId 4146245d-b4ab-4602-8588-a4167f7d0979\n",
      "queueType RANKED_SOLO_5x5\n",
      "tier IRON\n",
      "rank I\n",
      "summonerId C754ragTdklFiKmrlqop3vlAPX6U3fLXTDlyG22wythKil0-tiIEok51-g\n",
      "summonerName Silverakai\n",
      "leaguePoints 47\n",
      "wins 105\n",
      "losses 96\n",
      "veteran False\n",
      "inactive False\n",
      "freshBlood False\n",
      "hotStreak False\n"
     ]
    }
   ],
   "source": [
    "#Stats générales en classées\n",
    "\n",
    "my_ranked_stats = watcher.league.by_summoner(ma_region, me['id'])\n",
    "for cle, valeur in my_ranked_stats[0].items():\n",
    "    print(cle,valeur)"
   ]
  },
  {
   "cell_type": "code",
   "execution_count": 12,
   "metadata": {},
   "outputs": [
    {
     "ename": "NameError",
     "evalue": "name 'puuidinvocateur' is not defined",
     "output_type": "error",
     "traceback": [
      "\u001b[1;31m---------------------------------------------------------------------------\u001b[0m",
      "\u001b[1;31mNameError\u001b[0m                                 Traceback (most recent call last)",
      "\u001b[1;32m<ipython-input-12-960da35d5642>\u001b[0m in \u001b[0;36m<module>\u001b[1;34m\u001b[0m\n\u001b[0;32m      4\u001b[0m \u001b[1;33m\u001b[0m\u001b[0m\n\u001b[0;32m      5\u001b[0m \u001b[0murlbase2\u001b[0m \u001b[1;33m=\u001b[0m \u001b[1;34m\"https://europe.api.riotgames.com/lol/match/v5/matches/by-puuid/\"\u001b[0m\u001b[1;33m\u001b[0m\u001b[1;33m\u001b[0m\u001b[0m\n\u001b[1;32m----> 6\u001b[1;33m \u001b[0murlfinal2\u001b[0m \u001b[1;33m=\u001b[0m \u001b[0murlbase2\u001b[0m \u001b[1;33m+\u001b[0m \u001b[0mpuuidinvocateur\u001b[0m \u001b[1;33m+\u001b[0m \u001b[1;34m\"/ids?start=0&count=20\"\u001b[0m \u001b[1;33m+\u001b[0m \u001b[1;34m\"?api_key=\"\u001b[0m \u001b[1;33m+\u001b[0m \u001b[0mapi_key\u001b[0m\u001b[1;33m\u001b[0m\u001b[1;33m\u001b[0m\u001b[0m\n\u001b[0m\u001b[0;32m      7\u001b[0m \u001b[0mprint\u001b[0m \u001b[1;33m(\u001b[0m\u001b[0murlfinal2\u001b[0m\u001b[1;33m)\u001b[0m\u001b[1;33m\u001b[0m\u001b[1;33m\u001b[0m\u001b[0m\n",
      "\u001b[1;31mNameError\u001b[0m: name 'puuidinvocateur' is not defined"
     ]
    }
   ],
   "source": [
    "#Récupérer liste des matchs\n",
    "\n",
    "nbmatch=\"20\"\n",
    "\n",
    "urlbase2 = \"https://europe.api.riotgames.com/lol/match/v5/matches/by-puuid/\"\n",
    "urlfinal2 = urlbase2 + puuidinvocateur + \"/ids?start=0&count=20\" + \"?api_key=\" + api_key \n",
    "print (urlfinal2)"
   ]
  },
  {
   "cell_type": "code",
   "execution_count": null,
   "metadata": {},
   "outputs": [],
   "source": [
    "response2 = requests.get(urlfinal2)\n",
    "response2.json()"
   ]
  },
  {
   "cell_type": "code",
   "execution_count": 13,
   "metadata": {},
   "outputs": [],
   "source": [
    "#variables à analyser\n",
    "# maxCsAdvantageOnLaneOpponent, championName, win, totalMinionsKilled, timePlayed, firstBloodKill, visionScore, \n",
    "#kills, deaths, assists\n",
    "\n",
    "\n",
    "my_matches = watcher.match.matchlist_by_puuid(my_region, me['puuid'])\n",
    "adversaire = \"Yasuo\" \n",
    "k=0 #compteur\n",
    "victoire = 0 #nb de victoires\n",
    "fb = 0 #nb de first blood\n",
    "\n",
    "#Détails de la dernière game -> 0\n",
    "last_match = my_matches[1]\n",
    "match_detail = watcher.match.by_id(my_region, last_match)\n",
    "\n",
    "a=match_detail.get(\"info\") #parcourir le dictionnaire de données\n",
    "b=a.get(\"participants\")\n",
    "c=b[2].get(\"championName\")\n",
    "#print(c)\n",
    "\n",
    "for i in range(10) : \n",
    "    if b[i].get(\"championName\") == adversaire : \n",
    "        if b[i].get(\"win\") == True :\n",
    "            victoire=victoire+1\n",
    "        if b[i].get(\"firstBloodKill\") == True :\n",
    "            fb=fb+1\n",
    "        k=k+1\n",
    "        wr= \"Win rate : \" + str(victoire*100/(k)) + \"%\"\n",
    "        print(wr)\n",
    "        \n",
    "        fbr = \"First Blood Rate : \" + str(fb*100/(k)) + \"%\"\n",
    "        print (fbr)\n",
    "        \n",
    "        csing= \"CS/min : \" + str(b[i].get(\"totalMinionsKilled\")*60/b[i].get(\"timePlayed\"))\n",
    "        print (csing)\n",
    "        \n",
    "        vision = \"Vision/min : \" + str(b[i].get(\"visionScore\")*60/b[i].get(\"timePlayed\"))\n",
    "        print (vision)\n",
    "        \n",
    "        \n",
    "#print(match_detail)\n"
   ]
  },
  {
   "cell_type": "code",
   "execution_count": 19,
   "metadata": {},
   "outputs": [
    {
     "name": "stdout",
     "output_type": "stream",
     "text": [
      "Win rate : 66.67%\n",
      "KDA : 6.0/3.33/4.33\n",
      "First Blood Rate : 0.0%\n",
      "CS/min : 4.68\n",
      "Vision/min : 0.42\n"
     ]
    }
   ],
   "source": [
    "my_matches = watcher.match.matchlist_by_puuid(my_region, me['puuid'],0,100)\n",
    "\n",
    "adversaire = \"Syndra\" \n",
    "k=0 #compteur de games\n",
    "victoire = 0 #nb de victoires\n",
    "fb = 0 #nb de first blood\n",
    "minion = 0 \n",
    "tpsjeu = 0\n",
    "vision1 = 0\n",
    "kills = 0\n",
    "deaths = 0\n",
    "assists = 0\n",
    "            \n",
    "\n",
    "for i in range(14) :\n",
    "    last_match = my_matches[i]\n",
    "    match_detail = watcher.match.by_id(my_region, last_match)\n",
    "\n",
    "    a=match_detail.get(\"info\") #parcourir le dictionnaire de données\n",
    "    if a.get(\"gameType\") != \"CUSTOM_GAME\" :  #si on est en practice 1 partcipant donc out of range\n",
    "        b=a.get(\"participants\")\n",
    "    \n",
    "        for j in range(10) :                                 \n",
    "            if b[j].get(\"championName\") == adversaire and b[j].get(\"summonerName\") == name : \n",
    "                if b[j].get(\"win\") == True :\n",
    "                    victoire=victoire+1\n",
    "                if b[j].get(\"firstBloodKill\") == True :\n",
    "                    fb=fb+1\n",
    "                k=k+1\n",
    "                \n",
    "                kills = kills + b[j].get(\"kills\")\n",
    "                deaths = deaths + b[j].get(\"deaths\")\n",
    "                assists = assists + b[j].get(\"assists\")\n",
    "                minion = minion + b[j].get(\"totalMinionsKilled\")*60 \n",
    "                tpsjeu = tpsjeu + b[j].get(\"timePlayed\")\n",
    "                vision1 = vision1 + b[j].get(\"visionScore\")*60\n",
    "                \n",
    "                kda = \"KDA : \" + str(round(kills/k,2)) + \"/\" + str(round(deaths/k,2)) + \"/\" + str(round(assists/k,2)) \n",
    "\n",
    "                wr= \"Win rate : \" + str(round(victoire*100/k,2)) + \"%\"\n",
    "\n",
    "\n",
    "                fbr = \"First Blood Rate : \" + str(round(fb*100/k,2)) + \"%\"\n",
    "\n",
    "\n",
    "                csing= \"CS/min : \" + str(round(minion/tpsjeu,2))\n",
    "\n",
    "\n",
    "                vision = \"Vision/min : \" + str(round(vision1/tpsjeu,2))\n",
    "                \n",
    "        \n",
    "print(wr)\n",
    "print(kda)\n",
    "print (fbr)\n",
    "print (csing)\n",
    "print (vision)\n",
    "del(wr) #fait que le programme plante si aucune game ne correspond aux critères"
   ]
  },
  {
   "cell_type": "code",
   "execution_count": 173,
   "metadata": {},
   "outputs": [],
   "source": [
    "#bon winrate : Il obitent de bon résultats régulièrement avec ce champion, soyez prudent\n",
    "#bon farming : essayez de le punir s'il utilise ses sorts pour le farm, ne le laissez pas prendre l'avantage en gold\n",
    "#bon kda : Il est surement présent sur toute la map, ne le laissez pas roam en jouant sur le farm\n",
    "#bon first blood : il essaira surment de vous engage très tôt dans la partie\n",
    "#si l'on obtient exactement les mêmes résultats en changeant de champion, il ne l'a pas joué pour la période donnée ou erreur \n",
    "#d'écriture\n"
   ]
  },
  {
   "cell_type": "code",
   "execution_count": 110,
   "metadata": {},
   "outputs": [
    {
     "name": "stdout",
     "output_type": "stream",
     "text": [
      "['EUW1_5804610087', 'EUW1_5804633209', 'EUW1_5804191163', 'EUW1_5804105603', 'EUW1_5804040385', 'EUW1_5804045220', 'EUW1_5803621860', 'EUW1_5803507267', 'EUW1_5801124504', 'EUW1_5800959421', 'EUW1_5800962617', 'EUW1_5800836412', 'EUW1_5800769314', 'EUW1_5799205976', 'EUW1_5798034391', 'EUW1_5797957377', 'EUW1_5796160800', 'EUW1_5796073632', 'EUW1_5796044847', 'EUW1_5795950696', 'EUW1_5795827258', 'EUW1_5795355816', 'EUW1_5795269771', 'EUW1_5795283007', 'EUW1_5795197082', 'EUW1_5795220824', 'EUW1_5795115439', 'EUW1_5791735339', 'EUW1_5791589349', 'EUW1_5791546355', 'EUW1_5791532276', 'EUW1_5791319197', 'EUW1_5791267708', 'EUW1_5791210715']\n"
     ]
    }
   ],
   "source": [
    "my_matches = watcher.match.matchlist_by_puuid(my_region, me['puuid'],0,34)\n",
    "print(my_matches)"
   ]
  },
  {
   "cell_type": "code",
   "execution_count": null,
   "metadata": {},
   "outputs": [],
   "source": []
  }
 ],
 "metadata": {
  "kernelspec": {
   "display_name": "Python 3",
   "language": "python",
   "name": "python3"
  },
  "language_info": {
   "codemirror_mode": {
    "name": "ipython",
    "version": 3
   },
   "file_extension": ".py",
   "mimetype": "text/x-python",
   "name": "python",
   "nbconvert_exporter": "python",
   "pygments_lexer": "ipython3",
   "version": "3.7.3"
  }
 },
 "nbformat": 4,
 "nbformat_minor": 2
}
