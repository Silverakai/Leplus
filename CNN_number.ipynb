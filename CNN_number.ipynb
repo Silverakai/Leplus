{
 "cells": [
  {
   "cell_type": "code",
   "execution_count": 2,
   "metadata": {
    "id": "EO7Jp9EOnQ_X"
   },
   "outputs": [],
   "source": [
    "import pandas as pd\n",
    "import numpy as np\n",
    "import cv2"
   ]
  },
  {
   "cell_type": "code",
   "execution_count": 3,
   "metadata": {
    "id": "gSVt2RYfnePz"
   },
   "outputs": [],
   "source": [
    "from tensorflow.keras.datasets import mnist\n",
    "(x_train, y_train), (x_test, y_test) = mnist.load_data()"
   ]
  },
  {
   "cell_type": "markdown",
   "metadata": {
    "id": "fGCg7z8RnjoJ"
   },
   "source": [
    "## Visualisation Of Iamage data"
   ]
  },
  {
   "cell_type": "code",
   "execution_count": 4,
   "metadata": {
    "id": "VwTABXrcngEs"
   },
   "outputs": [],
   "source": [
    "import matplotlib.pyplot as plt"
   ]
  },
  {
   "cell_type": "code",
   "execution_count": 5,
   "metadata": {
    "colab": {
     "base_uri": "https://localhost:8080/",
     "height": 34
    },
    "executionInfo": {
     "elapsed": 4268,
     "status": "ok",
     "timestamp": 1597956649505,
     "user": {
      "displayName": "Rod Paris",
      "photoUrl": "",
      "userId": "10535238717210992784"
     },
     "user_tz": -120
    },
    "id": "47c-6xXanoly",
    "outputId": "a4ce695d-c6aa-49fb-ad56-9e2e6d89e1d1"
   },
   "outputs": [
    {
     "data": {
      "text/plain": [
       "(60000, 28, 28)"
      ]
     },
     "execution_count": 5,
     "metadata": {},
     "output_type": "execute_result"
    }
   ],
   "source": [
    "x_train.shape"
   ]
  },
  {
   "cell_type": "code",
   "execution_count": 6,
   "metadata": {
    "id": "R_cOIJEwnsf7"
   },
   "outputs": [],
   "source": [
    "single_image = x_train[1]"
   ]
  },
  {
   "cell_type": "code",
   "execution_count": 7,
   "metadata": {
    "colab": {
     "base_uri": "https://localhost:8080/",
     "height": 1000
    },
    "executionInfo": {
     "elapsed": 4191,
     "status": "ok",
     "timestamp": 1597956649506,
     "user": {
      "displayName": "Rod Paris",
      "photoUrl": "",
      "userId": "10535238717210992784"
     },
     "user_tz": -120
    },
    "id": "_Kt9wTrFCwA3",
    "outputId": "24f5c3b9-6f76-4804-f7df-c816df63017b",
    "scrolled": true
   },
   "outputs": [
    {
     "data": {
      "text/plain": [
       "array([[  0,   0,   0,   0,   0,   0,   0,   0,   0,   0,   0,   0,   0,\n",
       "          0,   0,   0,   0,   0,   0,   0,   0,   0,   0,   0,   0,   0,\n",
       "          0,   0],\n",
       "       [  0,   0,   0,   0,   0,   0,   0,   0,   0,   0,   0,   0,   0,\n",
       "          0,   0,   0,   0,   0,   0,   0,   0,   0,   0,   0,   0,   0,\n",
       "          0,   0],\n",
       "       [  0,   0,   0,   0,   0,   0,   0,   0,   0,   0,   0,   0,   0,\n",
       "          0,   0,   0,   0,   0,   0,   0,   0,   0,   0,   0,   0,   0,\n",
       "          0,   0],\n",
       "       [  0,   0,   0,   0,   0,   0,   0,   0,   0,   0,   0,   0,   0,\n",
       "          0,   0,   0,   0,   0,   0,   0,   0,   0,   0,   0,   0,   0,\n",
       "          0,   0],\n",
       "       [  0,   0,   0,   0,   0,   0,   0,   0,   0,   0,   0,   0,   0,\n",
       "          0,   0,  51, 159, 253, 159,  50,   0,   0,   0,   0,   0,   0,\n",
       "          0,   0],\n",
       "       [  0,   0,   0,   0,   0,   0,   0,   0,   0,   0,   0,   0,   0,\n",
       "          0,  48, 238, 252, 252, 252, 237,   0,   0,   0,   0,   0,   0,\n",
       "          0,   0],\n",
       "       [  0,   0,   0,   0,   0,   0,   0,   0,   0,   0,   0,   0,   0,\n",
       "         54, 227, 253, 252, 239, 233, 252,  57,   6,   0,   0,   0,   0,\n",
       "          0,   0],\n",
       "       [  0,   0,   0,   0,   0,   0,   0,   0,   0,   0,   0,  10,  60,\n",
       "        224, 252, 253, 252, 202,  84, 252, 253, 122,   0,   0,   0,   0,\n",
       "          0,   0],\n",
       "       [  0,   0,   0,   0,   0,   0,   0,   0,   0,   0,   0, 163, 252,\n",
       "        252, 252, 253, 252, 252,  96, 189, 253, 167,   0,   0,   0,   0,\n",
       "          0,   0],\n",
       "       [  0,   0,   0,   0,   0,   0,   0,   0,   0,   0,  51, 238, 253,\n",
       "        253, 190, 114, 253, 228,  47,  79, 255, 168,   0,   0,   0,   0,\n",
       "          0,   0],\n",
       "       [  0,   0,   0,   0,   0,   0,   0,   0,   0,  48, 238, 252, 252,\n",
       "        179,  12,  75, 121,  21,   0,   0, 253, 243,  50,   0,   0,   0,\n",
       "          0,   0],\n",
       "       [  0,   0,   0,   0,   0,   0,   0,   0,  38, 165, 253, 233, 208,\n",
       "         84,   0,   0,   0,   0,   0,   0, 253, 252, 165,   0,   0,   0,\n",
       "          0,   0],\n",
       "       [  0,   0,   0,   0,   0,   0,   0,   7, 178, 252, 240,  71,  19,\n",
       "         28,   0,   0,   0,   0,   0,   0, 253, 252, 195,   0,   0,   0,\n",
       "          0,   0],\n",
       "       [  0,   0,   0,   0,   0,   0,   0,  57, 252, 252,  63,   0,   0,\n",
       "          0,   0,   0,   0,   0,   0,   0, 253, 252, 195,   0,   0,   0,\n",
       "          0,   0],\n",
       "       [  0,   0,   0,   0,   0,   0,   0, 198, 253, 190,   0,   0,   0,\n",
       "          0,   0,   0,   0,   0,   0,   0, 255, 253, 196,   0,   0,   0,\n",
       "          0,   0],\n",
       "       [  0,   0,   0,   0,   0,   0,  76, 246, 252, 112,   0,   0,   0,\n",
       "          0,   0,   0,   0,   0,   0,   0, 253, 252, 148,   0,   0,   0,\n",
       "          0,   0],\n",
       "       [  0,   0,   0,   0,   0,   0,  85, 252, 230,  25,   0,   0,   0,\n",
       "          0,   0,   0,   0,   0,   7, 135, 253, 186,  12,   0,   0,   0,\n",
       "          0,   0],\n",
       "       [  0,   0,   0,   0,   0,   0,  85, 252, 223,   0,   0,   0,   0,\n",
       "          0,   0,   0,   0,   7, 131, 252, 225,  71,   0,   0,   0,   0,\n",
       "          0,   0],\n",
       "       [  0,   0,   0,   0,   0,   0,  85, 252, 145,   0,   0,   0,   0,\n",
       "          0,   0,   0,  48, 165, 252, 173,   0,   0,   0,   0,   0,   0,\n",
       "          0,   0],\n",
       "       [  0,   0,   0,   0,   0,   0,  86, 253, 225,   0,   0,   0,   0,\n",
       "          0,   0, 114, 238, 253, 162,   0,   0,   0,   0,   0,   0,   0,\n",
       "          0,   0],\n",
       "       [  0,   0,   0,   0,   0,   0,  85, 252, 249, 146,  48,  29,  85,\n",
       "        178, 225, 253, 223, 167,  56,   0,   0,   0,   0,   0,   0,   0,\n",
       "          0,   0],\n",
       "       [  0,   0,   0,   0,   0,   0,  85, 252, 252, 252, 229, 215, 252,\n",
       "        252, 252, 196, 130,   0,   0,   0,   0,   0,   0,   0,   0,   0,\n",
       "          0,   0],\n",
       "       [  0,   0,   0,   0,   0,   0,  28, 199, 252, 252, 253, 252, 252,\n",
       "        233, 145,   0,   0,   0,   0,   0,   0,   0,   0,   0,   0,   0,\n",
       "          0,   0],\n",
       "       [  0,   0,   0,   0,   0,   0,   0,  25, 128, 252, 253, 252, 141,\n",
       "         37,   0,   0,   0,   0,   0,   0,   0,   0,   0,   0,   0,   0,\n",
       "          0,   0],\n",
       "       [  0,   0,   0,   0,   0,   0,   0,   0,   0,   0,   0,   0,   0,\n",
       "          0,   0,   0,   0,   0,   0,   0,   0,   0,   0,   0,   0,   0,\n",
       "          0,   0],\n",
       "       [  0,   0,   0,   0,   0,   0,   0,   0,   0,   0,   0,   0,   0,\n",
       "          0,   0,   0,   0,   0,   0,   0,   0,   0,   0,   0,   0,   0,\n",
       "          0,   0],\n",
       "       [  0,   0,   0,   0,   0,   0,   0,   0,   0,   0,   0,   0,   0,\n",
       "          0,   0,   0,   0,   0,   0,   0,   0,   0,   0,   0,   0,   0,\n",
       "          0,   0],\n",
       "       [  0,   0,   0,   0,   0,   0,   0,   0,   0,   0,   0,   0,   0,\n",
       "          0,   0,   0,   0,   0,   0,   0,   0,   0,   0,   0,   0,   0,\n",
       "          0,   0]], dtype=uint8)"
      ]
     },
     "execution_count": 7,
     "metadata": {},
     "output_type": "execute_result"
    }
   ],
   "source": [
    "single_image"
   ]
  },
  {
   "cell_type": "code",
   "execution_count": 8,
   "metadata": {
    "colab": {
     "base_uri": "https://localhost:8080/",
     "height": 34
    },
    "executionInfo": {
     "elapsed": 4176,
     "status": "ok",
     "timestamp": 1597956649506,
     "user": {
      "displayName": "Rod Paris",
      "photoUrl": "",
      "userId": "10535238717210992784"
     },
     "user_tz": -120
    },
    "id": "SeLEY0GWCxiZ",
    "outputId": "ae415a99-e0c1-4962-cacc-047f22620a83"
   },
   "outputs": [
    {
     "data": {
      "text/plain": [
       "(28, 28)"
      ]
     },
     "execution_count": 8,
     "metadata": {},
     "output_type": "execute_result"
    }
   ],
   "source": [
    "single_image.shape"
   ]
  },
  {
   "cell_type": "code",
   "execution_count": 9,
   "metadata": {
    "colab": {
     "base_uri": "https://localhost:8080/",
     "height": 282
    },
    "executionInfo": {
     "elapsed": 4165,
     "status": "ok",
     "timestamp": 1597956649507,
     "user": {
      "displayName": "Rod Paris",
      "photoUrl": "",
      "userId": "10535238717210992784"
     },
     "user_tz": -120
    },
    "id": "d_SCQ1MyC0gl",
    "outputId": "655c85a0-4031-4204-e5fa-8294f02a3b5e"
   },
   "outputs": [
    {
     "data": {
      "text/plain": [
       "<matplotlib.image.AxesImage at 0x1a742d1c280>"
      ]
     },
     "execution_count": 9,
     "metadata": {},
     "output_type": "execute_result"
    },
    {
     "data": {
      "image/png": "[encoded data removed]",
      "text/plain": [
       "<Figure size 640x480 with 1 Axes>"
      ]
     },
     "metadata": {},
     "output_type": "display_data"
    }
   ],
   "source": [
    "plt.imshow(single_image)"
   ]
  },
  {
   "cell_type": "markdown",
   "metadata": {
    "id": "N5NAbJBaDIxs"
   },
   "source": [
    "### Labels"
   ]
  },
  {
   "cell_type": "code",
   "execution_count": 10,
   "metadata": {
    "colab": {
     "base_uri": "https://localhost:8080/",
     "height": 34
    },
    "executionInfo": {
     "elapsed": 4153,
     "status": "ok",
     "timestamp": 1597956649508,
     "user": {
      "displayName": "Rod Paris",
      "photoUrl": "",
      "userId": "10535238717210992784"
     },
     "user_tz": -120
    },
    "id": "J15jUVrMC2Oz",
    "outputId": "7c9dc8fc-0ecc-476d-9a35-1f40a52b0a12"
   },
   "outputs": [
    {
     "data": {
      "text/plain": [
       "array([5, 0, 4, ..., 5, 6, 8], dtype=uint8)"
      ]
     },
     "execution_count": 10,
     "metadata": {},
     "output_type": "execute_result"
    }
   ],
   "source": [
    "y_train"
   ]
  },
  {
   "cell_type": "code",
   "execution_count": 11,
   "metadata": {
    "colab": {
     "base_uri": "https://localhost:8080/",
     "height": 34
    },
    "executionInfo": {
     "elapsed": 4136,
     "status": "ok",
     "timestamp": 1597956649509,
     "user": {
      "displayName": "Rod Paris",
      "photoUrl": "",
      "userId": "10535238717210992784"
     },
     "user_tz": -120
    },
    "id": "3uZVpuKiDMIs",
    "outputId": "1d5b85d3-59c2-4764-ab7d-ba40868740a2"
   },
   "outputs": [
    {
     "data": {
      "text/plain": [
       "array([7, 2, 1, ..., 4, 5, 6], dtype=uint8)"
      ]
     },
     "execution_count": 11,
     "metadata": {},
     "output_type": "execute_result"
    }
   ],
   "source": [
    "y_test"
   ]
  },
  {
   "cell_type": "markdown",
   "metadata": {
    "id": "R6oBothEDZwC"
   },
   "source": [
    "Hmmm, on dirait que nos labels sont littéralement des catégories de chiffres. Nous devons traduire cela par un encodage \"one hot\" pour que notre CNN puisse comprendre, sinon il pensera qu'il s'agit d'une sorte de problème de régression sur un axe continu. Heureusement, Keras dispose d'une fonction facile à utiliser pour cela :"
   ]
  },
  {
   "cell_type": "code",
   "execution_count": 12,
   "metadata": {
    "id": "ZrkEizmNDNlf"
   },
   "outputs": [],
   "source": [
    "from tensorflow.keras.utils import to_categorical"
   ]
  },
  {
   "cell_type": "code",
   "execution_count": 13,
   "metadata": {
    "colab": {
     "base_uri": "https://localhost:8080/",
     "height": 34
    },
    "executionInfo": {
     "elapsed": 4109,
     "status": "ok",
     "timestamp": 1597956649513,
     "user": {
      "displayName": "Rod Paris",
      "photoUrl": "",
      "userId": "10535238717210992784"
     },
     "user_tz": -120
    },
    "id": "kC8c0sl6Dndm",
    "outputId": "bedaa930-ff05-40fc-89a9-fbb8cb154b07"
   },
   "outputs": [
    {
     "data": {
      "text/plain": [
       "(60000,)"
      ]
     },
     "execution_count": 13,
     "metadata": {},
     "output_type": "execute_result"
    }
   ],
   "source": [
    "y_train.shape"
   ]
  },
  {
   "cell_type": "code",
   "execution_count": 14,
   "metadata": {
    "id": "kbvXAq2iDo6j"
   },
   "outputs": [],
   "source": [
    "y_example = to_categorical(y_train)"
   ]
  },
  {
   "cell_type": "code",
   "execution_count": 15,
   "metadata": {
    "colab": {
     "base_uri": "https://localhost:8080/",
     "height": 136
    },
    "executionInfo": {
     "elapsed": 4088,
     "status": "ok",
     "timestamp": 1597956649514,
     "user": {
      "displayName": "Rod Paris",
      "photoUrl": "",
      "userId": "10535238717210992784"
     },
     "user_tz": -120
    },
    "id": "x0RZnJ4_Dqpp",
    "outputId": "f5f82360-fcef-40bc-ed0a-945f9e7b8510"
   },
   "outputs": [
    {
     "data": {
      "text/plain": [
       "array([[0., 0., 0., ..., 0., 0., 0.],\n",
       "       [1., 0., 0., ..., 0., 0., 0.],\n",
       "       [0., 0., 0., ..., 0., 0., 0.],\n",
       "       ...,\n",
       "       [0., 0., 0., ..., 0., 0., 0.],\n",
       "       [0., 0., 0., ..., 0., 0., 0.],\n",
       "       [0., 0., 0., ..., 0., 1., 0.]], dtype=float32)"
      ]
     },
     "execution_count": 15,
     "metadata": {},
     "output_type": "execute_result"
    }
   ],
   "source": [
    "y_example"
   ]
  },
  {
   "cell_type": "code",
   "execution_count": 16,
   "metadata": {
    "colab": {
     "base_uri": "https://localhost:8080/",
     "height": 34
    },
    "executionInfo": {
     "elapsed": 4031,
     "status": "ok",
     "timestamp": 1597956649515,
     "user": {
      "displayName": "Rod Paris",
      "photoUrl": "",
      "userId": "10535238717210992784"
     },
     "user_tz": -120
    },
    "id": "i6FAmz2RDxCr",
    "outputId": "3e1f677c-949f-4439-ce7c-ee07bc732910"
   },
   "outputs": [
    {
     "data": {
      "text/plain": [
       "(60000, 10)"
      ]
     },
     "execution_count": 16,
     "metadata": {},
     "output_type": "execute_result"
    }
   ],
   "source": [
    "y_example.shape"
   ]
  },
  {
   "cell_type": "code",
   "execution_count": 17,
   "metadata": {
    "colab": {
     "base_uri": "https://localhost:8080/",
     "height": 34
    },
    "executionInfo": {
     "elapsed": 4002,
     "status": "ok",
     "timestamp": 1597956649516,
     "user": {
      "displayName": "Rod Paris",
      "photoUrl": "",
      "userId": "10535238717210992784"
     },
     "user_tz": -120
    },
    "id": "nVeSlPgtDydk",
    "outputId": "c111340d-e8ef-484e-8f1d-9abb41bf786d"
   },
   "outputs": [
    {
     "data": {
      "text/plain": [
       "array([1., 0., 0., 0., 0., 0., 0., 0., 0., 0.], dtype=float32)"
      ]
     },
     "execution_count": 17,
     "metadata": {},
     "output_type": "execute_result"
    }
   ],
   "source": [
    "y_example[1]"
   ]
  },
  {
   "cell_type": "code",
   "execution_count": 18,
   "metadata": {
    "id": "dxWn2ocbDz0l"
   },
   "outputs": [],
   "source": [
    "y_cat_test = to_categorical(y_test,10)"
   ]
  },
  {
   "cell_type": "code",
   "execution_count": 19,
   "metadata": {
    "id": "UxMY5WxUD1ce"
   },
   "outputs": [],
   "source": [
    "y_cat_train = to_categorical(y_train,10)"
   ]
  },
  {
   "cell_type": "markdown",
   "metadata": {
    "id": "WFTfHkiGD6eA"
   },
   "source": [
    "### Processing X data"
   ]
  },
  {
   "cell_type": "code",
   "execution_count": 20,
   "metadata": {
    "colab": {
     "base_uri": "https://localhost:8080/",
     "height": 34
    },
    "executionInfo": {
     "elapsed": 3953,
     "status": "ok",
     "timestamp": 1597956649521,
     "user": {
      "displayName": "Rod Paris",
      "photoUrl": "",
      "userId": "10535238717210992784"
     },
     "user_tz": -120
    },
    "id": "BfkBIN_oD20L",
    "outputId": "59def365-b7aa-4338-ca74-43a4c7c01325"
   },
   "outputs": [
    {
     "data": {
      "text/plain": [
       "255"
      ]
     },
     "execution_count": 20,
     "metadata": {},
     "output_type": "execute_result"
    }
   ],
   "source": [
    "single_image.max()"
   ]
  },
  {
   "cell_type": "code",
   "execution_count": 21,
   "metadata": {
    "colab": {
     "base_uri": "https://localhost:8080/",
     "height": 34
    },
    "executionInfo": {
     "elapsed": 3942,
     "status": "ok",
     "timestamp": 1597956649522,
     "user": {
      "displayName": "Rod Paris",
      "photoUrl": "",
      "userId": "10535238717210992784"
     },
     "user_tz": -120
    },
    "id": "aDV6pXqUD80R",
    "outputId": "6cccd2da-f91e-4bee-b272-f4c2146b11bd"
   },
   "outputs": [
    {
     "data": {
      "text/plain": [
       "0"
      ]
     },
     "execution_count": 21,
     "metadata": {},
     "output_type": "execute_result"
    }
   ],
   "source": [
    "single_image.min()"
   ]
  },
  {
   "cell_type": "code",
   "execution_count": 22,
   "metadata": {
    "id": "hyQlO-DTD-UQ"
   },
   "outputs": [],
   "source": [
    "x_train = x_train/255\n",
    "x_test = x_test/255"
   ]
  },
  {
   "cell_type": "code",
   "execution_count": 23,
   "metadata": {
    "id": "3oNdVPz-D_qC"
   },
   "outputs": [],
   "source": [
    "scaled_single = x_train[0]"
   ]
  },
  {
   "cell_type": "code",
   "execution_count": 24,
   "metadata": {
    "colab": {
     "base_uri": "https://localhost:8080/",
     "height": 34
    },
    "executionInfo": {
     "elapsed": 4282,
     "status": "ok",
     "timestamp": 1597956649893,
     "user": {
      "displayName": "Rod Paris",
      "photoUrl": "",
      "userId": "10535238717210992784"
     },
     "user_tz": -120
    },
    "id": "B4W2k7KPEBDV",
    "outputId": "3d41ab59-8030-4807-cc8d-dba0edd28826"
   },
   "outputs": [
    {
     "data": {
      "text/plain": [
       "1.0"
      ]
     },
     "execution_count": 24,
     "metadata": {},
     "output_type": "execute_result"
    }
   ],
   "source": [
    "scaled_single.max()"
   ]
  },
  {
   "cell_type": "code",
   "execution_count": 25,
   "metadata": {
    "colab": {
     "base_uri": "https://localhost:8080/",
     "height": 282
    },
    "executionInfo": {
     "elapsed": 4271,
     "status": "ok",
     "timestamp": 1597956649894,
     "user": {
      "displayName": "Rod Paris",
      "photoUrl": "",
      "userId": "10535238717210992784"
     },
     "user_tz": -120
    },
    "id": "CZvlGr3YECdU",
    "outputId": "9783806b-5998-424f-8da3-75335d410bb6"
   },
   "outputs": [
    {
     "data": {
      "text/plain": [
       "<matplotlib.image.AxesImage at 0x1a7419158e0>"
      ]
     },
     "execution_count": 25,
     "metadata": {},
     "output_type": "execute_result"
    },
    {
     "data": {
      "image/png": "[encoded data removed]",
      "text/plain": [
       "<Figure size 640x480 with 1 Axes>"
      ]
     },
     "metadata": {},
     "output_type": "display_data"
    }
   ],
   "source": [
    "plt.imshow(scaled_single)"
   ]
  },
  {
   "cell_type": "markdown",
   "metadata": {
    "id": "9sb8TVlFEIgE"
   },
   "source": [
    "### Add a dimension to the data (B&W to RGB)"
   ]
  },
  {
   "cell_type": "code",
   "execution_count": 26,
   "metadata": {
    "colab": {
     "base_uri": "https://localhost:8080/",
     "height": 34
    },
    "executionInfo": {
     "elapsed": 4260,
     "status": "ok",
     "timestamp": 1597956649895,
     "user": {
      "displayName": "Rod Paris",
      "photoUrl": "",
      "userId": "10535238717210992784"
     },
     "user_tz": -120
    },
    "id": "U61pKuuTED_P",
    "outputId": "a14b4c37-37f3-4051-ca5e-8f01719668a3"
   },
   "outputs": [
    {
     "data": {
      "text/plain": [
       "(60000, 28, 28)"
      ]
     },
     "execution_count": 26,
     "metadata": {},
     "output_type": "execute_result"
    }
   ],
   "source": [
    "x_train.shape"
   ]
  },
  {
   "cell_type": "code",
   "execution_count": 27,
   "metadata": {
    "colab": {
     "base_uri": "https://localhost:8080/",
     "height": 34
    },
    "executionInfo": {
     "elapsed": 4245,
     "status": "ok",
     "timestamp": 1597956649895,
     "user": {
      "displayName": "Rod Paris",
      "photoUrl": "",
      "userId": "10535238717210992784"
     },
     "user_tz": -120
    },
    "id": "OlAVJyHeEX3y",
    "outputId": "ede8bcfe-3341-4c33-cb12-86de6dd37898"
   },
   "outputs": [
    {
     "data": {
      "text/plain": [
       "(10000, 28, 28)"
      ]
     },
     "execution_count": 27,
     "metadata": {},
     "output_type": "execute_result"
    }
   ],
   "source": [
    "x_test.shape"
   ]
  },
  {
   "cell_type": "markdown",
   "metadata": {
    "id": "Kh_d-szvEbsR"
   },
   "source": [
    "Remodeler pour inclure la dimension du canal (dans ce cas, 1 canal)"
   ]
  },
  {
   "cell_type": "code",
   "execution_count": 28,
   "metadata": {
    "id": "k-ExdirgEZJe"
   },
   "outputs": [],
   "source": [
    "x_train = x_train.reshape(60000, 28, 28, 1)"
   ]
  },
  {
   "cell_type": "code",
   "execution_count": 29,
   "metadata": {
    "colab": {
     "base_uri": "https://localhost:8080/",
     "height": 34
    },
    "executionInfo": {
     "elapsed": 4226,
     "status": "ok",
     "timestamp": 1597956649897,
     "user": {
      "displayName": "Rod Paris",
      "photoUrl": "",
      "userId": "10535238717210992784"
     },
     "user_tz": -120
    },
    "id": "sfI94n0HEe6d",
    "outputId": "b3e906f5-1d1f-4330-b9ce-d71bb02266ad"
   },
   "outputs": [
    {
     "data": {
      "text/plain": [
       "(60000, 28, 28, 1)"
      ]
     },
     "execution_count": 29,
     "metadata": {},
     "output_type": "execute_result"
    }
   ],
   "source": [
    "x_train.shape"
   ]
  },
  {
   "cell_type": "code",
   "execution_count": 30,
   "metadata": {
    "id": "_4FGQJ77EgPL"
   },
   "outputs": [],
   "source": [
    "x_test = x_test.reshape(10000,28,28,1)"
   ]
  },
  {
   "cell_type": "code",
   "execution_count": 31,
   "metadata": {
    "colab": {
     "base_uri": "https://localhost:8080/",
     "height": 34
    },
    "executionInfo": {
     "elapsed": 4207,
     "status": "ok",
     "timestamp": 1597956649898,
     "user": {
      "displayName": "Rod Paris",
      "photoUrl": "",
      "userId": "10535238717210992784"
     },
     "user_tz": -120
    },
    "id": "UPhwCM9uEhw6",
    "outputId": "869ce78a-fdec-4d32-ade6-925031522a0c"
   },
   "outputs": [
    {
     "data": {
      "text/plain": [
       "(10000, 28, 28, 1)"
      ]
     },
     "execution_count": 31,
     "metadata": {},
     "output_type": "execute_result"
    }
   ],
   "source": [
    "x_test.shape"
   ]
  },
  {
   "cell_type": "markdown",
   "metadata": {
    "id": "WlrNyTNHEljU"
   },
   "source": [
    "## Création of the Model"
   ]
  },
  {
   "cell_type": "code",
   "execution_count": 32,
   "metadata": {
    "id": "uE2C9DOCEjCT"
   },
   "outputs": [],
   "source": [
    "from tensorflow.keras.models import Sequential\n",
    "from tensorflow.keras.layers import Dense, Conv2D, MaxPool2D, Flatten"
   ]
  },
  {
   "cell_type": "code",
   "execution_count": 33,
   "metadata": {
    "id": "6xS6_9txEpQd"
   },
   "outputs": [],
   "source": [
    "model = Sequential()\n",
    "\n",
    "# Couche convolutive\n",
    "model.add(Conv2D(filters=32, kernel_size=(4,4),input_shape=(28, 28, 1), activation='relu',))\n",
    "# Couche de Pooling\n",
    "model.add(MaxPool2D(pool_size=(2, 2)))\n",
    "\n",
    "# Images aplaties de 28 par 28 à 764 avant la couche finale\n",
    "model.add(Flatten())\n",
    "\n",
    "# 128 neurones dans une couche cachée Dense (vous pouvez changer ce nombre de neurones)\n",
    "model.add(Dense(128, activation='relu'))\n",
    "\n",
    "# La dernière couche est le calssificateur, donc 10 classes possibles\n",
    "model.add(Dense(10, activation='softmax'))\n",
    "\n",
    "# https://keras.io/metrics/\n",
    "model.compile(loss='categorical_crossentropy',\n",
    "              optimizer='adam',\n",
    "              metrics=['accuracy']) # nous pouvons ajouter des metrics supplémentaires https://keras.io/metrics/"
   ]
  },
  {
   "cell_type": "code",
   "execution_count": 34,
   "metadata": {
    "colab": {
     "base_uri": "https://localhost:8080/",
     "height": 323
    },
    "executionInfo": {
     "elapsed": 4174,
     "status": "ok",
     "timestamp": 1597956649899,
     "user": {
      "displayName": "Rod Paris",
      "photoUrl": "",
      "userId": "10535238717210992784"
     },
     "user_tz": -120
    },
    "id": "V7_UjlHBFJsK",
    "outputId": "ec71d311-3432-496f-820b-69e569ee4755"
   },
   "outputs": [
    {
     "name": "stdout",
     "output_type": "stream",
     "text": [
      "Model: \"sequential\"\n",
      "_________________________________________________________________\n",
      " Layer (type)                Output Shape              Param #   \n",
      "=================================================================\n",
      " conv2d (Conv2D)             (None, 25, 25, 32)        544       \n",
      "                                                                 \n",
      " max_pooling2d (MaxPooling2D  (None, 12, 12, 32)       0         \n",
      " )                                                               \n",
      "                                                                 \n",
      " flatten (Flatten)           (None, 4608)              0         \n",
      "                                                                 \n",
      " dense (Dense)               (None, 128)               589952    \n",
      "                                                                 \n",
      " dense_1 (Dense)             (None, 10)                1290      \n",
      "                                                                 \n",
      "=================================================================\n",
      "Total params: 591,786\n",
      "Trainable params: 591,786\n",
      "Non-trainable params: 0\n",
      "_________________________________________________________________\n"
     ]
    }
   ],
   "source": [
    "model.summary()"
   ]
  },
  {
   "cell_type": "code",
   "execution_count": 35,
   "metadata": {
    "id": "thcjowpsFLLv"
   },
   "outputs": [],
   "source": [
    "from tensorflow.keras.callbacks import EarlyStopping"
   ]
  },
  {
   "cell_type": "code",
   "execution_count": 36,
   "metadata": {
    "id": "cN57hTc9FM4k"
   },
   "outputs": [],
   "source": [
    "early_stop = EarlyStopping(monitor='val_loss',patience=2)"
   ]
  },
  {
   "cell_type": "markdown",
   "metadata": {
    "id": "-5ZNpPN0FUWC"
   },
   "source": [
    "### Training"
   ]
  },
  {
   "cell_type": "code",
   "execution_count": 37,
   "metadata": {
    "colab": {
     "base_uri": "https://localhost:8080/",
     "height": 224
    },
    "executionInfo": {
     "elapsed": 162544,
     "status": "ok",
     "timestamp": 1597956808299,
     "user": {
      "displayName": "Rod Paris",
      "photoUrl": "",
      "userId": "10535238717210992784"
     },
     "user_tz": -120
    },
    "id": "qOTg4bHgFOr3",
    "outputId": "a97becff-6ae2-4576-8d91-f8f02cace94f"
   },
   "outputs": [
    {
     "name": "stdout",
     "output_type": "stream",
     "text": [
      "Epoch 1/10\n",
      "1875/1875 [==============================] - 25s 13ms/step - loss: 0.1318 - accuracy: 0.9601 - val_loss: 0.0495 - val_accuracy: 0.9844\n",
      "Epoch 2/10\n",
      "1875/1875 [==============================] - 25s 13ms/step - loss: 0.0455 - accuracy: 0.9861 - val_loss: 0.0415 - val_accuracy: 0.9856\n",
      "Epoch 3/10\n",
      "1875/1875 [==============================] - 25s 13ms/step - loss: 0.0296 - accuracy: 0.9908 - val_loss: 0.0474 - val_accuracy: 0.9844\n",
      "Epoch 4/10\n",
      "1875/1875 [==============================] - 25s 13ms/step - loss: 0.0194 - accuracy: 0.9942 - val_loss: 0.0330 - val_accuracy: 0.9901\n",
      "Epoch 5/10\n",
      "1875/1875 [==============================] - 25s 13ms/step - loss: 0.0138 - accuracy: 0.9955 - val_loss: 0.0413 - val_accuracy: 0.9869\n",
      "Epoch 6/10\n",
      "1875/1875 [==============================] - 25s 13ms/step - loss: 0.0104 - accuracy: 0.9966 - val_loss: 0.0469 - val_accuracy: 0.9866\n"
     ]
    },
    {
     "data": {
      "text/plain": [
       "<keras.callbacks.History at 0x1a741b75c10>"
      ]
     },
     "execution_count": 37,
     "metadata": {},
     "output_type": "execute_result"
    }
   ],
   "source": [
    "model.fit(x_train,y_cat_train,epochs=10,validation_data=(x_test,y_cat_test),callbacks=[early_stop])"
   ]
  },
  {
   "cell_type": "code",
   "execution_count": 38,
   "metadata": {},
   "outputs": [],
   "source": [
    "from tensorflow.keras.models import load_model\n",
    "model.save('numero.h5')"
   ]
  },
  {
   "cell_type": "code",
   "execution_count": null,
   "metadata": {},
   "outputs": [],
   "source": [
    "from tensorflow import keras\n",
    "#model = keras.models.load_model('numero.h5')"
   ]
  },
  {
   "cell_type": "markdown",
   "metadata": {
    "id": "xjwz2Y1oFafY"
   },
   "source": [
    "## Évaluation of the model"
   ]
  },
  {
   "cell_type": "code",
   "execution_count": 40,
   "metadata": {
    "colab": {
     "base_uri": "https://localhost:8080/",
     "height": 34
    },
    "executionInfo": {
     "elapsed": 162532,
     "status": "ok",
     "timestamp": 1597956808300,
     "user": {
      "displayName": "Rod Paris",
      "photoUrl": "",
      "userId": "10535238717210992784"
     },
     "user_tz": -120
    },
    "id": "lad8Z_RLFYhA",
    "outputId": "f7e849a1-121b-40f7-f92a-d7ccc9e34927"
   },
   "outputs": [
    {
     "data": {
      "text/plain": [
       "['loss', 'accuracy']"
      ]
     },
     "execution_count": 40,
     "metadata": {},
     "output_type": "execute_result"
    }
   ],
   "source": [
    "model.metrics_names"
   ]
  },
  {
   "cell_type": "code",
   "execution_count": 41,
   "metadata": {
    "id": "x6mbk01iFfzJ"
   },
   "outputs": [],
   "source": [
    "losses = pd.DataFrame(model.history.history)"
   ]
  },
  {
   "cell_type": "code",
   "execution_count": 42,
   "metadata": {
    "colab": {
     "base_uri": "https://localhost:8080/",
     "height": 204
    },
    "executionInfo": {
     "elapsed": 162510,
     "status": "ok",
     "timestamp": 1597956808301,
     "user": {
      "displayName": "Rod Paris",
      "photoUrl": "",
      "userId": "10535238717210992784"
     },
     "user_tz": -120
    },
    "id": "0It-QbM_Fhf1",
    "outputId": "01d8c5af-f51b-4a17-8ce7-2e585a39210c"
   },
   "outputs": [
    {
     "data": {
      "text/html": [
       "<div>\n",
       "<style scoped>\n",
       "    .dataframe tbody tr th:only-of-type {\n",
       "        vertical-align: middle;\n",
       "    }\n",
       "\n",
       "    .dataframe tbody tr th {\n",
       "        vertical-align: top;\n",
       "    }\n",
       "\n",
       "    .dataframe thead th {\n",
       "        text-align: right;\n",
       "    }\n",
       "</style>\n",
       "<table border=\"1\" class=\"dataframe\">\n",
       "  <thead>\n",
       "    <tr style=\"text-align: right;\">\n",
       "      <th></th>\n",
       "      <th>loss</th>\n",
       "      <th>accuracy</th>\n",
       "      <th>val_loss</th>\n",
       "      <th>val_accuracy</th>\n",
       "    </tr>\n",
       "  </thead>\n",
       "  <tbody>\n",
       "    <tr>\n",
       "      <th>0</th>\n",
       "      <td>0.139041</td>\n",
       "      <td>0.957950</td>\n",
       "      <td>0.055861</td>\n",
       "      <td>0.9817</td>\n",
       "    </tr>\n",
       "    <tr>\n",
       "      <th>1</th>\n",
       "      <td>0.047455</td>\n",
       "      <td>0.985333</td>\n",
       "      <td>0.043056</td>\n",
       "      <td>0.9850</td>\n",
       "    </tr>\n",
       "    <tr>\n",
       "      <th>2</th>\n",
       "      <td>0.031116</td>\n",
       "      <td>0.989883</td>\n",
       "      <td>0.041938</td>\n",
       "      <td>0.9856</td>\n",
       "    </tr>\n",
       "    <tr>\n",
       "      <th>3</th>\n",
       "      <td>0.021344</td>\n",
       "      <td>0.993150</td>\n",
       "      <td>0.039678</td>\n",
       "      <td>0.9877</td>\n",
       "    </tr>\n",
       "    <tr>\n",
       "      <th>4</th>\n",
       "      <td>0.015407</td>\n",
       "      <td>0.994983</td>\n",
       "      <td>0.045386</td>\n",
       "      <td>0.9870</td>\n",
       "    </tr>\n",
       "  </tbody>\n",
       "</table>\n",
       "</div>"
      ],
      "text/plain": [
       "       loss  accuracy  val_loss  val_accuracy\n",
       "0  0.139041  0.957950  0.055861        0.9817\n",
       "1  0.047455  0.985333  0.043056        0.9850\n",
       "2  0.031116  0.989883  0.041938        0.9856\n",
       "3  0.021344  0.993150  0.039678        0.9877\n",
       "4  0.015407  0.994983  0.045386        0.9870"
      ]
     },
     "execution_count": 42,
     "metadata": {},
     "output_type": "execute_result"
    }
   ],
   "source": [
    "losses.head()"
   ]
  },
  {
   "cell_type": "code",
   "execution_count": 43,
   "metadata": {
    "colab": {
     "base_uri": "https://localhost:8080/",
     "height": 282
    },
    "executionInfo": {
     "elapsed": 162498,
     "status": "ok",
     "timestamp": 1597956808302,
     "user": {
      "displayName": "Rod Paris",
      "photoUrl": "",
      "userId": "10535238717210992784"
     },
     "user_tz": -120
    },
    "id": "WIRoeGvwFizH",
    "outputId": "b62f0b9f-b2a6-42b2-cadf-5d5fca81462b",
    "scrolled": true
   },
   "outputs": [
    {
     "data": {
      "text/plain": [
       "<AxesSubplot:>"
      ]
     },
     "execution_count": 43,
     "metadata": {},
     "output_type": "execute_result"
    },
    {
     "data": {
      "image/png": "[encoded data removed]",
      "text/plain": [
       "<Figure size 640x480 with 1 Axes>"
      ]
     },
     "metadata": {},
     "output_type": "display_data"
    }
   ],
   "source": [
    "losses[['accuracy','val_accuracy']].plot()"
   ]
  },
  {
   "cell_type": "code",
   "execution_count": 44,
   "metadata": {
    "colab": {
     "base_uri": "https://localhost:8080/",
     "height": 282
    },
    "executionInfo": {
     "elapsed": 162912,
     "status": "ok",
     "timestamp": 1597956808728,
     "user": {
      "displayName": "Rod Paris",
      "photoUrl": "",
      "userId": "10535238717210992784"
     },
     "user_tz": -120
    },
    "id": "pRua6MWaFkhM",
    "outputId": "b61abc04-c6f5-480b-b511-9410d2a0a26b"
   },
   "outputs": [
    {
     "data": {
      "text/plain": [
       "<AxesSubplot:>"
      ]
     },
     "execution_count": 44,
     "metadata": {},
     "output_type": "execute_result"
    },
    {
     "data": {
      "image/png": "[encoded data removed]",
      "text/plain": [
       "<Figure size 640x480 with 1 Axes>"
      ]
     },
     "metadata": {},
     "output_type": "display_data"
    }
   ],
   "source": [
    "losses[['loss','val_loss']].plot()"
   ]
  },
  {
   "cell_type": "code",
   "execution_count": 45,
   "metadata": {
    "colab": {
     "base_uri": "https://localhost:8080/",
     "height": 51
    },
    "executionInfo": {
     "elapsed": 164374,
     "status": "ok",
     "timestamp": 1597956810204,
     "user": {
      "displayName": "Rod Paris",
      "photoUrl": "",
      "userId": "10535238717210992784"
     },
     "user_tz": -120
    },
    "id": "dylfvxOpFmUI",
    "outputId": "fc46ec3a-0e4f-401c-924f-f133b35a6ebc"
   },
   "outputs": [
    {
     "name": "stdout",
     "output_type": "stream",
     "text": [
      "['loss', 'accuracy']\n",
      "[0.04810681939125061, 0.9869999885559082]\n"
     ]
    }
   ],
   "source": [
    "print(model.metrics_names)\n",
    "print(model.evaluate(x_test,y_cat_test,verbose=0))"
   ]
  },
  {
   "cell_type": "code",
   "execution_count": 46,
   "metadata": {
    "id": "Z_3HAvHUFofW"
   },
   "outputs": [],
   "source": [
    "from sklearn.metrics import classification_report,confusion_matrix"
   ]
  },
  {
   "cell_type": "code",
   "execution_count": 47,
   "metadata": {
    "id": "Kf-s7UHFFqP2"
   },
   "outputs": [
    {
     "name": "stdout",
     "output_type": "stream",
     "text": [
      "313/313 [==============================] - 2s 5ms/step\n"
     ]
    }
   ],
   "source": [
    "predictions = np.argmax(model.predict(x_test), axis=1)"
   ]
  },
  {
   "cell_type": "code",
   "execution_count": 48,
   "metadata": {
    "colab": {
     "base_uri": "https://localhost:8080/",
     "height": 34
    },
    "executionInfo": {
     "elapsed": 166202,
     "status": "ok",
     "timestamp": 1597956812058,
     "user": {
      "displayName": "Rod Paris",
      "photoUrl": "",
      "userId": "10535238717210992784"
     },
     "user_tz": -120
    },
    "id": "hc88XEHxFrkn",
    "outputId": "5a017e8f-a32e-42e5-edb3-241a83b94295"
   },
   "outputs": [
    {
     "data": {
      "text/plain": [
       "(10000, 10)"
      ]
     },
     "execution_count": 48,
     "metadata": {},
     "output_type": "execute_result"
    }
   ],
   "source": [
    "y_cat_test.shape"
   ]
  },
  {
   "cell_type": "code",
   "execution_count": 49,
   "metadata": {
    "colab": {
     "base_uri": "https://localhost:8080/",
     "height": 34
    },
    "executionInfo": {
     "elapsed": 166189,
     "status": "ok",
     "timestamp": 1597956812059,
     "user": {
      "displayName": "Rod Paris",
      "photoUrl": "",
      "userId": "10535238717210992784"
     },
     "user_tz": -120
    },
    "id": "hJi7Ul06FszU",
    "outputId": "2dd6107b-2077-4098-9992-cfa8ead64794"
   },
   "outputs": [
    {
     "data": {
      "text/plain": [
       "array([0., 0., 0., 0., 0., 0., 0., 1., 0., 0.], dtype=float32)"
      ]
     },
     "execution_count": 49,
     "metadata": {},
     "output_type": "execute_result"
    }
   ],
   "source": [
    "y_cat_test[0]"
   ]
  },
  {
   "cell_type": "code",
   "execution_count": 50,
   "metadata": {
    "colab": {
     "base_uri": "https://localhost:8080/",
     "height": 34
    },
    "executionInfo": {
     "elapsed": 166176,
     "status": "ok",
     "timestamp": 1597956812059,
     "user": {
      "displayName": "Rod Paris",
      "photoUrl": "",
      "userId": "10535238717210992784"
     },
     "user_tz": -120
    },
    "id": "PGbLGyOoFuG0",
    "outputId": "85cc1cac-9aad-4b78-edd4-0ef9f6f4d689"
   },
   "outputs": [
    {
     "data": {
      "text/plain": [
       "7"
      ]
     },
     "execution_count": 50,
     "metadata": {},
     "output_type": "execute_result"
    }
   ],
   "source": [
    "predictions[0]"
   ]
  },
  {
   "cell_type": "code",
   "execution_count": 51,
   "metadata": {
    "colab": {
     "base_uri": "https://localhost:8080/",
     "height": 34
    },
    "executionInfo": {
     "elapsed": 166165,
     "status": "ok",
     "timestamp": 1597956812060,
     "user": {
      "displayName": "Rod Paris",
      "photoUrl": "",
      "userId": "10535238717210992784"
     },
     "user_tz": -120
    },
    "id": "nWDNp1dQFviQ",
    "outputId": "50e8d4f9-4596-4376-c486-a57aa9e0da2d"
   },
   "outputs": [
    {
     "data": {
      "text/plain": [
       "array([7, 2, 1, ..., 4, 5, 6], dtype=uint8)"
      ]
     },
     "execution_count": 51,
     "metadata": {},
     "output_type": "execute_result"
    }
   ],
   "source": [
    "y_test"
   ]
  },
  {
   "cell_type": "code",
   "execution_count": 52,
   "metadata": {
    "colab": {
     "base_uri": "https://localhost:8080/",
     "height": 306
    },
    "executionInfo": {
     "elapsed": 166153,
     "status": "ok",
     "timestamp": 1597956812060,
     "user": {
      "displayName": "Rod Paris",
      "photoUrl": "",
      "userId": "10535238717210992784"
     },
     "user_tz": -120
    },
    "id": "fg9Neq13Fw-X",
    "outputId": "4ab437a2-6208-4962-c543-7e4f7aefccdf"
   },
   "outputs": [
    {
     "name": "stdout",
     "output_type": "stream",
     "text": [
      "              precision    recall  f1-score   support\n",
      "\n",
      "           0       0.97      1.00      0.99       980\n",
      "           1       0.99      1.00      0.99      1135\n",
      "           2       0.98      0.99      0.99      1032\n",
      "           3       0.99      0.99      0.99      1010\n",
      "           4       0.99      0.99      0.99       982\n",
      "           5       0.98      0.99      0.98       892\n",
      "           6       0.99      0.97      0.98       958\n",
      "           7       0.99      0.99      0.99      1028\n",
      "           8       0.99      0.98      0.99       974\n",
      "           9       0.99      0.98      0.98      1009\n",
      "\n",
      "    accuracy                           0.99     10000\n",
      "   macro avg       0.99      0.99      0.99     10000\n",
      "weighted avg       0.99      0.99      0.99     10000\n",
      "\n"
     ]
    }
   ],
   "source": [
    "print(classification_report(y_test,predictions))"
   ]
  },
  {
   "cell_type": "code",
   "execution_count": 53,
   "metadata": {
    "colab": {
     "base_uri": "https://localhost:8080/",
     "height": 187
    },
    "executionInfo": {
     "elapsed": 166144,
     "status": "ok",
     "timestamp": 1597956812062,
     "user": {
      "displayName": "Rod Paris",
      "photoUrl": "",
      "userId": "10535238717210992784"
     },
     "user_tz": -120
    },
    "id": "AUjUD604FyZ7",
    "outputId": "de148ea3-c3eb-4b5a-eb53-7309f76ef5d5"
   },
   "outputs": [
    {
     "data": {
      "text/plain": [
       "array([[ 978,    0,    0,    1,    0,    0,    1,    0,    0,    0],\n",
       "       [   0, 1130,    3,    0,    0,    0,    0,    1,    1,    0],\n",
       "       [   1,    2, 1024,    0,    1,    0,    1,    3,    0,    0],\n",
       "       [   0,    0,    2, 1002,    0,    2,    0,    1,    2,    1],\n",
       "       [   0,    0,    2,    0,  971,    0,    0,    2,    3,    4],\n",
       "       [   2,    0,    0,    7,    0,  880,    2,    0,    0,    1],\n",
       "       [  11,    3,    0,    1,    2,    7,  933,    0,    1,    0],\n",
       "       [   0,    2,    8,    1,    0,    0,    0, 1014,    0,    3],\n",
       "       [   8,    1,    5,    1,    0,    0,    1,    2,  954,    2],\n",
       "       [   4,    2,    0,    0,    7,    7,    0,    4,    1,  984]],\n",
       "      dtype=int64)"
      ]
     },
     "execution_count": 53,
     "metadata": {},
     "output_type": "execute_result"
    }
   ],
   "source": [
    "confusion_matrix(y_test,predictions)"
   ]
  },
  {
   "cell_type": "code",
   "execution_count": 54,
   "metadata": {
    "colab": {
     "base_uri": "https://localhost:8080/",
     "height": 71
    },
    "executionInfo": {
     "elapsed": 166121,
     "status": "ok",
     "timestamp": 1597956812063,
     "user": {
      "displayName": "Rod Paris",
      "photoUrl": "",
      "userId": "10535238717210992784"
     },
     "user_tz": -120
    },
    "id": "S3mUDujOF0CK",
    "outputId": "87acf120-9c65-44f6-a5e2-46152e1d87cd"
   },
   "outputs": [],
   "source": [
    "import seaborn as sns"
   ]
  },
  {
   "cell_type": "code",
   "execution_count": 55,
   "metadata": {
    "colab": {
     "base_uri": "https://localhost:8080/",
     "height": 391
    },
    "executionInfo": {
     "elapsed": 167120,
     "status": "ok",
     "timestamp": 1597956813085,
     "user": {
      "displayName": "Rod Paris",
      "photoUrl": "",
      "userId": "10535238717210992784"
     },
     "user_tz": -120
    },
    "id": "ptWJsId0F1fg",
    "outputId": "d743a591-e60d-404d-e940-617140ddb080"
   },
   "outputs": [
    {
     "data": {
      "text/plain": [
       "<AxesSubplot:>"
      ]
     },
     "execution_count": 55,
     "metadata": {},
     "output_type": "execute_result"
    },
    {
     "data": {
      "image/png": "[encoded data removed]",
      "text/plain": [
       "<Figure size 1000x600 with 2 Axes>"
      ]
     },
     "metadata": {},
     "output_type": "display_data"
    }
   ],
   "source": [
    "plt.figure(figsize=(10,6))\n",
    "sns.heatmap(confusion_matrix(y_test,predictions),annot=True)\n",
    "# https://github.com/matplotlib/matplotlib/issues/14751"
   ]
  },
  {
   "cell_type": "markdown",
   "metadata": {
    "id": "SBYiI3pMGBj9"
   },
   "source": [
    "### Prediction of an image"
   ]
  },
  {
   "cell_type": "code",
   "execution_count": 39,
   "metadata": {
    "id": "NoYbA0lBF3wD"
   },
   "outputs": [
    {
     "data": {
      "text/plain": [
       "<matplotlib.image.AxesImage at 0x1a764fce070>"
      ]
     },
     "execution_count": 39,
     "metadata": {},
     "output_type": "execute_result"
    },
    {
     "data": {
      "image/png": "[encoded data removed]",
      "text/plain": [
       "<Figure size 640x480 with 1 Axes>"
      ]
     },
     "metadata": {},
     "output_type": "display_data"
    }
   ],
   "source": [
    "import cv2\n",
    "from numpy import asarray\n",
    "lol = cv2.imread(r'\\data\\letter3.png', cv2.IMREAD_GRAYSCALE)\n",
    "\n",
    "imgr = cv2.resize(lol, (28,28), interpolation = cv2.INTER_LINEAR)\n",
    "imgr = cv2.bitwise_not(imgr)\n",
    "\n",
    "plt.imshow(imgr, cmap = 'gray')"
   ]
  },
  {
   "cell_type": "code",
   "execution_count": 40,
   "metadata": {
    "colab": {
     "base_uri": "https://localhost:8080/",
     "height": 282
    },
    "executionInfo": {
     "elapsed": 167091,
     "status": "ok",
     "timestamp": 1597956813089,
     "user": {
      "displayName": "Rod Paris",
      "photoUrl": "",
      "userId": "10535238717210992784"
     },
     "user_tz": -120
    },
    "id": "oOnNPPW-GEWr",
    "outputId": "a08c10e5-1970-4a80-c3dc-48652d6779f7"
   },
   "outputs": [
    {
     "data": {
      "text/plain": [
       "<matplotlib.image.AxesImage at 0x1a764ffda00>"
      ]
     },
     "execution_count": 40,
     "metadata": {},
     "output_type": "execute_result"
    },
    {
     "data": {
      "image/png": "[encoded data removed]",
      "text/plain": [
       "<Figure size 640x480 with 1 Axes>"
      ]
     },
     "metadata": {},
     "output_type": "display_data"
    }
   ],
   "source": [
    "plt.imshow(imgr.reshape(28,28,1))"
   ]
  },
  {
   "cell_type": "code",
   "execution_count": 42,
   "metadata": {
    "colab": {
     "base_uri": "https://localhost:8080/",
     "height": 34
    },
    "executionInfo": {
     "elapsed": 992,
     "status": "ok",
     "timestamp": 1597957181564,
     "user": {
      "displayName": "Rod Paris",
      "photoUrl": "",
      "userId": "10535238717210992784"
     },
     "user_tz": -120
    },
    "id": "Lj2tTVv3GFtK",
    "outputId": "3a1323ee-b693-4431-feaa-e0fdd3b8f9c6",
    "scrolled": true
   },
   "outputs": [
    {
     "name": "stdout",
     "output_type": "stream",
     "text": [
      "1/1 [==============================] - 0s 27ms/step\n",
      "8\n"
     ]
    }
   ],
   "source": [
    "#lettre = np.argmax(model.predict(my_number.reshape(1,28,28,1)), axis=-1)\n",
    "number = np.argmax(model.predict(imgr.reshape(1,28,28,1)), axis=-1)\n",
    "\n",
    "\n",
    "list = [\"0\",\"1\",\"2\",\"3\",\"4\",\"5\",\"6\",\"7\",\"8\",\"9\"]\n",
    "type(number[0])\n",
    "\n",
    "print(list[number[0]])"
   ]
  },
  {
   "cell_type": "markdown",
   "metadata": {
    "id": "-5A6NbtrGMC8"
   },
   "source": [
    "Works well!"
   ]
  }
 ],
 "metadata": {
  "colab": {
   "authorship_tag": "ABX9TyNDNCoWITk5bJmMSA3JQHB4",
   "name": "01-Keras-CNN-MNIST.ipynb",
   "provenance": [
    {
     "file_id": "1iq4CBUGBMHT-c8Kt0R91O9_T6K-_d6LK",
     "timestamp": 1598820662026
    }
   ]
  },
  "kernelspec": {
   "display_name": "Python 3 (ipykernel)",
   "language": "python",
   "name": "python3"
  },
  "language_info": {
   "codemirror_mode": {
    "name": "ipython",
    "version": 3
   },
   "file_extension": ".py",
   "mimetype": "text/x-python",
   "name": "python",
   "nbconvert_exporter": "python",
   "pygments_lexer": "ipython3",
   "version": "3.9.13"
  }
 },
 "nbformat": 4,
 "nbformat_minor": 1
}
